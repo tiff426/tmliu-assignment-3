{
 "cells": [
  {
   "cell_type": "markdown",
   "id": "245217cc",
   "metadata": {},
   "source": [
    "# Assignment: SVD Preprocessing on MNIST with Logistic Regression"
   ]
  },
  {
   "cell_type": "markdown",
   "id": "deffa444",
   "metadata": {},
   "source": [
    "## Instructions:\n",
    "In this assignment, you will apply **Singular Value Decomposition (SVD)** as a preprocessing step to the **MNIST dataset** and train a **logistic regression classifier**. You will compare the model performance and training time when using different levels of SVD for dimensionality reduction.\n",
    "\n",
    "In this assignment, you will need to:\n",
    "1. Load the MNIST dataset and normalize it.\n",
    "2. Perform SVD and reduce the dimensions of the data.\n",
    "3. Train a logistic regression model on the original and SVD-reduced data.\n",
    "4. Measure and compare the training time and accuracy of the model with varying SVD components.\n",
    "5. Plot the results and analyze how SVD impacts the performance and efficiency of the model.\n",
    "\n",
    "***\n",
    "Your tasks include:\n",
    "1. Implement SVD algorithm. You are not allowed to directly use SVD implemented by other packages, but you may use functions in NumPy. (Part 2)\n",
    "2. Explore the accuracy and time performance from different numbers of SVD components. (Part 4)\n",
    "3. Visualize the accuracy, time performance and top 5 singular vectors in the dataset, analyze and explain which number of SVD component looks best to you? (Part 4,5&6) Hint: singular vectors should be reshaped to 28x28 images for visualization.\n",
    "***\n",
    "**Note that you may not import any other function or package.** Let's get started!\n"
   ]
  },
  {
   "cell_type": "markdown",
   "id": "b3e10cb3",
   "metadata": {},
   "source": [
    "## Part 1: Load the MNIST dataset and preprocess the data"
   ]
  },
  {
   "cell_type": "code",
   "execution_count": 2,
   "id": "79f2d907",
   "metadata": {},
   "outputs": [
    {
     "name": "stdout",
     "output_type": "stream",
     "text": [
      "Loading MNIST dataset...\n"
     ]
    }
   ],
   "source": [
    "import numpy as np\n",
    "import matplotlib.pyplot as plt\n",
    "import time\n",
    "from sklearn.linear_model import LogisticRegression\n",
    "from sklearn.model_selection import train_test_split\n",
    "from sklearn.datasets import fetch_openml\n",
    "from sklearn.metrics import accuracy_score, classification_report\n",
    "\n",
    "# Load MNIST dataset\n",
    "print(\"Loading MNIST dataset...\")\n",
    "mnist = fetch_openml('mnist_784', version=1)\n",
    "X = mnist.data\n",
    "y = mnist.target\n",
    "\n",
    "# Normalize the data\n",
    "X = X / 255.0\n",
    "\n",
    "# Split into training and test sets\n",
    "X_train, X_test, y_train, y_test = train_test_split(X, y, test_size=0.2, random_state=42)\n"
   ]
  },
  {
   "cell_type": "markdown",
   "id": "28b8572d",
   "metadata": {},
   "source": [
    "## Part 2: Implement SVD for Dimensionality Reduction"
   ]
  },
  {
   "cell_type": "code",
   "execution_count": 3,
   "id": "b3bd59f3",
   "metadata": {},
   "outputs": [
    {
     "data": {
      "text/plain": [
       "(array([[0., 0., 0., ..., 0., 0., 0.],\n",
       "        [0., 0., 0., ..., 0., 0., 0.],\n",
       "        [0., 0., 0., ..., 0., 0., 0.],\n",
       "        ...,\n",
       "        [0., 0., 0., ..., 0., 0., 0.],\n",
       "        [0., 0., 0., ..., 0., 0., 0.],\n",
       "        [0., 0., 0., ..., 0., 0., 0.]]),\n",
       " array([[0., 0., 0., ..., 0., 0., 0.],\n",
       "        [0., 0., 0., ..., 0., 0., 0.],\n",
       "        [0., 0., 0., ..., 0., 0., 0.],\n",
       "        ...,\n",
       "        [0., 0., 0., ..., 0., 0., 0.],\n",
       "        [0., 0., 0., ..., 0., 0., 0.],\n",
       "        [0., 0., 0., ..., 0., 0., 0.]]),\n",
       " array([[0., 0., 0., ..., 0., 0., 0.],\n",
       "        [0., 0., 0., ..., 0., 0., 0.],\n",
       "        [0., 0., 0., ..., 0., 0., 0.],\n",
       "        ...,\n",
       "        [0., 0., 0., ..., 0., 0., 0.],\n",
       "        [0., 0., 0., ..., 0., 0., 0.],\n",
       "        [0., 0., 0., ..., 0., 0., 0.]]),\n",
       " array([[0., 0., 0., ..., 0., 0., 0.],\n",
       "        [0., 0., 0., ..., 0., 0., 0.],\n",
       "        [0., 0., 0., ..., 0., 0., 0.],\n",
       "        ...,\n",
       "        [0., 0., 0., ..., 0., 0., 0.],\n",
       "        [0., 0., 0., ..., 0., 0., 0.],\n",
       "        [0., 0., 0., ..., 0., 0., 0.]]))"
      ]
     },
     "execution_count": 3,
     "metadata": {},
     "output_type": "execute_result"
    }
   ],
   "source": [
    "def apply_svd_custom(X_train, X_test, n_components):\n",
    "    # print(do_svd(X_train))\n",
    "    # print(do_svd(X_test))\n",
    "        # Apply SVD on training data\n",
    "    # intermediate values\n",
    "    U_train, S_train, Vt_train = do_svd(X_train.to_numpy(), n_components) #n_components\n",
    "    # reduce to n_components \n",
    "    reduced_X_train  = reduce(U_train, S_train, Vt_train, n_components)\n",
    "    \n",
    "    # now do same for X_test\n",
    "    U_test, S_test, Vt_test = do_svd(X_test.to_numpy(), n_components)\n",
    "    reduced_X_test = reduce(U_test, S_test, Vt_test, n_components)\n",
    "    \n",
    "    return reduced_X_train, Vt_train, reduced_X_test, Vt_test\n",
    "\n",
    "# easier to jsut make a helper...\n",
    "# def do_svd(A):\n",
    "#     return np.linalg.svd(A)\n",
    "\n",
    "def do_svd(A, n_components):\n",
    "    # step 1: find ATA\n",
    "    ATA = np.dot(A.T, A)\n",
    "    # step 2: eigenvalues and descending\n",
    "    eigenvals, eigenvecs = np.linalg.eigh(ATA)\n",
    "    desc = np.argsort(eigenvals)[::-1]\n",
    "    eigenvals = eigenvals[::-1]\n",
    "    #eigenvecs = eigenvecs[:, desc] order matters\n",
    "    # make sure nonzeros\n",
    "    firstindex = len(eigenvals) - 1\n",
    "    for i in range(len(eigenvals)):\n",
    "        if eigenvals[i] <= 0:\n",
    "            firstindex = i\n",
    "            break\n",
    "    eigenvals = eigenvals[:firstindex]\n",
    "    desc = desc[:firstindex]\n",
    "    eigenvecs = eigenvecs[:, desc]\n",
    "    #eigenvecs = eigenvecs[:, :firstindex]\n",
    "    # step 3: find singular vals\n",
    "    singular_vals = [np.sqrt(val) for val in eigenvals if val > 0]\n",
    "    # step 4: build S and S in as diagonal matrix\n",
    "    S = np.diag(singular_vals)\n",
    "    U = np.dot(A, eigenvecs) / singular_vals   # np.dot(eigenvecs, S_in.T) -> don't need S_in since directly projecting A onto eigenvecs..\n",
    "    # print(U)\n",
    "    # print(S)\n",
    "    # print(eigenvals.T)\n",
    "    return U, singular_vals, eigenvecs.T\n",
    "\n",
    "# no get everything to fit n_components \n",
    "def reduce(U, S, Vt, n_components):\n",
    "    #return np.dot(U[:, :n_components], np.diag(S[:n_components]))\n",
    "    scopy = S.copy()\n",
    "    scopy[n_components:] = np.zeros(len(scopy) - n_components) \n",
    "    #return np.dot(U[:, :n_components], np.diag(scopy))\n",
    "    return U.dot(np.diag(scopy)).dot(Vt)\n",
    "    \n",
    "# # Sample training data matrix (X_train)\n",
    "# X_train = np.array([\n",
    "#     [3, 2, 2, 3, 2, 3],\n",
    "#     [2, 3, -2, 3, 2, -3],\n",
    "#     [3, 2, 2, -2, 3, 3],\n",
    "#     [3, 2, 3, 3, 2, 2],\n",
    "#     [2, 2, 3, 3, 2, 3],\n",
    "#     [2, 3, 3, 2, -2, -3]\n",
    "# ])\n",
    "\n",
    "# # Sample test data matrix (X_test) (can be different from X_train)\n",
    "# X_test = np.array([\n",
    "#     [1, 0, 0, 1, 0, 1],\n",
    "#     [0, 1, 0, 0, 1, 1],\n",
    "#     [1, 1, 0,  1, 0, 0],\n",
    "#     [1, 0, 1, 1, 1, 0],\n",
    "#     [0, 1, 1, 0, 0, 1],\n",
    "#     [1, 0, 0, 1, 1, 0]\n",
    "# ])\n",
    "# BRUHHH I DONT NEED THISSSSSSS\n",
    "# X_train = np.array([[1, 2, 3, 4, 5],\n",
    "#                     [4, 5, 6, 7, 8],\n",
    "#                     [7, 8, 9, 10, 11],\n",
    "#                     [10, 11, 12, 13, 14]])\n",
    "\n",
    "# X_test = np.array([[13, 14, 15, 16, 17],\n",
    "#                    [16, 17, 18, 19, 20],\n",
    "#                    [19, 20, 21, 22, 23],\n",
    "#                    [22, 23, 24, 25, 26]])\n",
    "\n",
    "# Number of components to keep (n_components)\n",
    "n_components = 3  # You can adjust this based on the desired dimensionality\n",
    "apply_svd_custom(X_train, X_test, n_components)\n"
   ]
  },
  {
   "cell_type": "markdown",
   "id": "eb2a7a9d",
   "metadata": {},
   "source": [
    "## Part 3: Train Logistic Regression and Measure Performance"
   ]
  },
  {
   "cell_type": "code",
   "execution_count": 4,
   "id": "dbfc0b10",
   "metadata": {},
   "outputs": [],
   "source": [
    "# Function to train logistic regression and track training time\n",
    "def train_logistic_regression(X_train, y_train, X_test, y_test):\n",
    "    model = LogisticRegression(max_iter=1000, solver='saga', random_state=42, multi_class='multinomial')\n",
    "    \n",
    "    # Measure training time\n",
    "    start_time = time.time()\n",
    "    model.fit(X_train, y_train)\n",
    "    training_time = time.time() - start_time\n",
    "    \n",
    "    y_pred = model.predict(X_test)\n",
    "    accuracy = accuracy_score(y_test, y_pred)\n",
    "    \n",
    "    return accuracy, training_time\n"
   ]
  },
  {
   "cell_type": "markdown",
   "id": "2e557a05",
   "metadata": {},
   "source": [
    "## Part 4: Experiment with Different Levels of SVD\n",
    "\n",
    "Now, apply SVD with varying numbers of components and observe how the dimensionality reduction impacts the model's performance. Record both the accuracy and training time for each number of components.\n"
   ]
  },
  {
   "cell_type": "code",
   "execution_count": 5,
   "id": "3a460725",
   "metadata": {},
   "outputs": [
    {
     "name": "stdout",
     "output_type": "stream",
     "text": [
      "Training models with different levels of SVD preprocessing...\n",
      "Applying custom SVD with 1 components...\n"
     ]
    },
    {
     "name": "stderr",
     "output_type": "stream",
     "text": [
      "/Users/tiffliu/Library/Python/3.9/lib/python/site-packages/sklearn/linear_model/_logistic.py:1247: FutureWarning: 'multi_class' was deprecated in version 1.5 and will be removed in 1.7. From then on, it will always use 'multinomial'. Leave it to its default value to avoid this warning.\n",
      "  warnings.warn(\n"
     ]
    },
    {
     "name": "stdout",
     "output_type": "stream",
     "text": [
      "SVD components: 1, Accuracy: 0.1990, Training time: 8.4366 seconds\n",
      "for  1  components, accuracy:  0.199  training time:  8.43662405014038\n",
      "Applying custom SVD with 7 components...\n"
     ]
    },
    {
     "name": "stderr",
     "output_type": "stream",
     "text": [
      "/Users/tiffliu/Library/Python/3.9/lib/python/site-packages/sklearn/linear_model/_logistic.py:1247: FutureWarning: 'multi_class' was deprecated in version 1.5 and will be removed in 1.7. From then on, it will always use 'multinomial'. Leave it to its default value to avoid this warning.\n",
      "  warnings.warn(\n"
     ]
    },
    {
     "name": "stdout",
     "output_type": "stream",
     "text": [
      "SVD components: 7, Accuracy: 0.7560, Training time: 12.7117 seconds\n",
      "for  7  components, accuracy:  0.756  training time:  12.711673021316528\n",
      "Applying custom SVD with 39 components...\n"
     ]
    },
    {
     "name": "stderr",
     "output_type": "stream",
     "text": [
      "/Users/tiffliu/Library/Python/3.9/lib/python/site-packages/sklearn/linear_model/_logistic.py:1247: FutureWarning: 'multi_class' was deprecated in version 1.5 and will be removed in 1.7. From then on, it will always use 'multinomial'. Leave it to its default value to avoid this warning.\n",
      "  warnings.warn(\n"
     ]
    },
    {
     "name": "stdout",
     "output_type": "stream",
     "text": [
      "SVD components: 39, Accuracy: 0.9016, Training time: 30.5874 seconds\n",
      "for  39  components, accuracy:  0.9016428571428572  training time:  30.587445974349976\n",
      "Applying custom SVD with 54 components...\n"
     ]
    },
    {
     "name": "stderr",
     "output_type": "stream",
     "text": [
      "/Users/tiffliu/Library/Python/3.9/lib/python/site-packages/sklearn/linear_model/_logistic.py:1247: FutureWarning: 'multi_class' was deprecated in version 1.5 and will be removed in 1.7. From then on, it will always use 'multinomial'. Leave it to its default value to avoid this warning.\n",
      "  warnings.warn(\n"
     ]
    },
    {
     "name": "stdout",
     "output_type": "stream",
     "text": [
      "SVD components: 54, Accuracy: 0.9098, Training time: 83.5862 seconds\n",
      "for  54  components, accuracy:  0.9097857142857143  training time:  83.58615517616272\n",
      "Applying custom SVD with 78 components...\n"
     ]
    },
    {
     "name": "stderr",
     "output_type": "stream",
     "text": [
      "/Users/tiffliu/Library/Python/3.9/lib/python/site-packages/sklearn/linear_model/_logistic.py:1247: FutureWarning: 'multi_class' was deprecated in version 1.5 and will be removed in 1.7. From then on, it will always use 'multinomial'. Leave it to its default value to avoid this warning.\n",
      "  warnings.warn(\n"
     ]
    },
    {
     "name": "stdout",
     "output_type": "stream",
     "text": [
      "SVD components: 78, Accuracy: 0.9161, Training time: 133.7247 seconds\n",
      "for  78  components, accuracy:  0.9161428571428571  training time:  133.72467374801636\n",
      "Applying custom SVD with 156 components...\n"
     ]
    },
    {
     "name": "stderr",
     "output_type": "stream",
     "text": [
      "/Users/tiffliu/Library/Python/3.9/lib/python/site-packages/sklearn/linear_model/_logistic.py:1247: FutureWarning: 'multi_class' was deprecated in version 1.5 and will be removed in 1.7. From then on, it will always use 'multinomial'. Leave it to its default value to avoid this warning.\n",
      "  warnings.warn(\n"
     ]
    },
    {
     "name": "stdout",
     "output_type": "stream",
     "text": [
      "SVD components: 156, Accuracy: 0.9198, Training time: 220.4910 seconds\n",
      "for  156  components, accuracy:  0.9197857142857143  training time:  220.4910352230072\n",
      "Applying custom SVD with 235 components...\n"
     ]
    },
    {
     "name": "stderr",
     "output_type": "stream",
     "text": [
      "/Users/tiffliu/Library/Python/3.9/lib/python/site-packages/sklearn/linear_model/_logistic.py:1247: FutureWarning: 'multi_class' was deprecated in version 1.5 and will be removed in 1.7. From then on, it will always use 'multinomial'. Leave it to its default value to avoid this warning.\n",
      "  warnings.warn(\n"
     ]
    },
    {
     "name": "stdout",
     "output_type": "stream",
     "text": [
      "SVD components: 235, Accuracy: 0.9206, Training time: 254.4785 seconds\n",
      "for  235  components, accuracy:  0.9205714285714286  training time:  254.4785280227661\n",
      "Applying custom SVD with 313 components...\n"
     ]
    },
    {
     "name": "stderr",
     "output_type": "stream",
     "text": [
      "/Users/tiffliu/Library/Python/3.9/lib/python/site-packages/sklearn/linear_model/_logistic.py:1247: FutureWarning: 'multi_class' was deprecated in version 1.5 and will be removed in 1.7. From then on, it will always use 'multinomial'. Leave it to its default value to avoid this warning.\n",
      "  warnings.warn(\n"
     ]
    },
    {
     "name": "stdout",
     "output_type": "stream",
     "text": [
      "SVD components: 313, Accuracy: 0.9209, Training time: 245.7036 seconds\n",
      "for  313  components, accuracy:  0.9208571428571428  training time:  245.7035527229309\n",
      "Applying custom SVD with 392 components...\n"
     ]
    },
    {
     "name": "stderr",
     "output_type": "stream",
     "text": [
      "/Users/tiffliu/Library/Python/3.9/lib/python/site-packages/sklearn/linear_model/_logistic.py:1247: FutureWarning: 'multi_class' was deprecated in version 1.5 and will be removed in 1.7. From then on, it will always use 'multinomial'. Leave it to its default value to avoid this warning.\n",
      "  warnings.warn(\n"
     ]
    },
    {
     "name": "stdout",
     "output_type": "stream",
     "text": [
      "SVD components: 392, Accuracy: 0.9196, Training time: 251.0349 seconds\n",
      "for  392  components, accuracy:  0.9195714285714286  training time:  251.03493309020996\n",
      "Applying custom SVD with 470 components...\n"
     ]
    },
    {
     "name": "stderr",
     "output_type": "stream",
     "text": [
      "/Users/tiffliu/Library/Python/3.9/lib/python/site-packages/sklearn/linear_model/_logistic.py:1247: FutureWarning: 'multi_class' was deprecated in version 1.5 and will be removed in 1.7. From then on, it will always use 'multinomial'. Leave it to its default value to avoid this warning.\n",
      "  warnings.warn(\n"
     ]
    },
    {
     "name": "stdout",
     "output_type": "stream",
     "text": [
      "SVD components: 470, Accuracy: 0.9206, Training time: 272.3993 seconds\n",
      "for  470  components, accuracy:  0.9205714285714286  training time:  272.39929580688477\n",
      "Applying custom SVD with 548 components...\n"
     ]
    },
    {
     "name": "stderr",
     "output_type": "stream",
     "text": [
      "/Users/tiffliu/Library/Python/3.9/lib/python/site-packages/sklearn/linear_model/_logistic.py:1247: FutureWarning: 'multi_class' was deprecated in version 1.5 and will be removed in 1.7. From then on, it will always use 'multinomial'. Leave it to its default value to avoid this warning.\n",
      "  warnings.warn(\n"
     ]
    },
    {
     "name": "stdout",
     "output_type": "stream",
     "text": [
      "SVD components: 548, Accuracy: 0.9209, Training time: 286.4395 seconds\n",
      "for  548  components, accuracy:  0.9209285714285714  training time:  286.4395270347595\n",
      "Applying custom SVD with 627 components...\n"
     ]
    },
    {
     "name": "stderr",
     "output_type": "stream",
     "text": [
      "/Users/tiffliu/Library/Python/3.9/lib/python/site-packages/sklearn/linear_model/_logistic.py:1247: FutureWarning: 'multi_class' was deprecated in version 1.5 and will be removed in 1.7. From then on, it will always use 'multinomial'. Leave it to its default value to avoid this warning.\n",
      "  warnings.warn(\n"
     ]
    },
    {
     "name": "stdout",
     "output_type": "stream",
     "text": [
      "SVD components: 627, Accuracy: 0.9208, Training time: 310.9076 seconds\n",
      "for  627  components, accuracy:  0.9207857142857143  training time:  310.9076302051544\n",
      "Applying custom SVD with 705 components...\n"
     ]
    },
    {
     "name": "stderr",
     "output_type": "stream",
     "text": [
      "/Users/tiffliu/Library/Python/3.9/lib/python/site-packages/sklearn/linear_model/_logistic.py:1247: FutureWarning: 'multi_class' was deprecated in version 1.5 and will be removed in 1.7. From then on, it will always use 'multinomial'. Leave it to its default value to avoid this warning.\n",
      "  warnings.warn(\n"
     ]
    },
    {
     "name": "stdout",
     "output_type": "stream",
     "text": [
      "SVD components: 705, Accuracy: 0.9209, Training time: 315.2844 seconds\n",
      "for  705  components, accuracy:  0.9208571428571428  training time:  315.2843999862671\n"
     ]
    }
   ],
   "source": [
    "svd_components = []  # You need to decide what number to search...   what the hell does this mean\n",
    "\n",
    "# fill svd_components depending on total features\n",
    "total_features = X_train.shape[1]\n",
    "svd_components = [int(total_features * p) for p in [0.0013, 0.01, 0.05, 0.07, 0.1, 0.2, 0.3, 0.4, 0.5, 0.6, 0.7, 0.8, 0.9]]\n",
    "\n",
    "\n",
    "# Store the results\n",
    "results = []\n",
    "\n",
    "print(\"Training models with different levels of SVD preprocessing...\")\n",
    "for n_components in svd_components:\n",
    "    print(f\"Applying custom SVD with {n_components} components...\")\n",
    "    \n",
    "    # Apply SVD to the training and test sets\n",
    "    # Call apply_svd_custom() here...\n",
    "    X_train_svd, Vt_train, X_test_svd, Vt_test = apply_svd_custom(X_train, X_test, n_components)\n",
    "    # print(X_train.shape)\n",
    "    # print(X_test.shape)\n",
    "    # print(X_train_svd.shape)\n",
    "    # print(X_test_svd.shape)\n",
    "    # print(y_train.shape)\n",
    "    # print(y_test.shape)\n",
    "    \n",
    "    # Train the logistic regression model and get accuracy and training time\n",
    "    # using above function\n",
    "    accuracy, training_time = train_logistic_regression(X_train_svd, y_train, X_test_svd, y_test)\n",
    "        \n",
    "    print(f\"SVD components: {n_components}, Accuracy: {accuracy:.4f}, Training time: {training_time:.4f} seconds\")\n",
    "    results.append({'n_components': n_components,\n",
    "                    'accuracy': accuracy,\n",
    "                    'training time': training_time})\n",
    "    print(\"for \", n_components, \" components, accuracy: \", accuracy, \" training time: \", training_time)\n"
   ]
  },
  {
   "cell_type": "markdown",
   "id": "ea7aca12",
   "metadata": {},
   "source": [
    "## Part 5: Visualize and Analyze the Results\n",
    "\n",
    "Finally, plot the accuracy, training time as a function of the number of SVD components, and top 5 singular vectors. This will help you understand the trade-off between dimensionality reduction, accuracy, and model training time, and how SVD generally works. Hint: singular vectors should be reshaped to 28x28 images for visualization.\n"
   ]
  },
  {
   "cell_type": "code",
   "execution_count": 6,
   "id": "92ef0497",
   "metadata": {},
   "outputs": [
    {
     "data": {
      "image/png": "[encoded data removed]",
      "text/plain": [
       "<Figure size 1500x800 with 2 Axes>"
      ]
     },
     "metadata": {},
     "output_type": "display_data"
    },
    {
     "data": {
      "image/png": "[encoded data removed]",
      "text/plain": [
       "<Figure size 1200x400 with 5 Axes>"
      ]
     },
     "metadata": {},
     "output_type": "display_data"
    }
   ],
   "source": [
    "## Your implementation here...\n",
    "## You may add necessary lines in Part 4 to access data for visualization\n",
    "n_components = [result['n_components'] for result in results]\n",
    "accuracies = [result['accuracy'] for result in results]\n",
    "training_times = [result['training time'] for result in results]\n",
    "\n",
    "fig, (ax1, ax2) = plt.subplots(1, 2, figsize=(15, 8))\n",
    "ax1.plot(n_components, accuracies)\n",
    "ax1.set_title('Accuracy vs. Number of SVD Components')\n",
    "ax1.set_xlabel('Number of SVD Components')\n",
    "ax1.set_ylabel('Accuracy')\n",
    "ax2.plot(n_components, training_times)\n",
    "ax2.set_title('Training Times vs. Number of SVD Components')\n",
    "ax2.set_xlabel('Number of SVD Components')\n",
    "ax2.set_ylabel('Training times')\n",
    "\n",
    "# top 5 are top 5 of Vt, right singular\n",
    "# create new figure for the 5 pltos\n",
    "# oh duh cuz the figure is what the plots are actually on\n",
    "plt.figure(figsize=(12, 4))\n",
    "top_5 = Vt_test[:5]\n",
    "for i in range(5):\n",
    "    plt.subplot(1, 5, i + 1)\n",
    "    plt.imshow(top_5[i].reshape((28,28)), cmap='gray')\n",
    "    plt.title(f'SV {i + 1}')\n",
    "    plt.axis('off')\n",
    "plt.show()"
   ]
  },
  {
   "cell_type": "markdown",
   "id": "4210569a",
   "metadata": {},
   "source": [
    "## Part 6: Analyze / Conclusion \n",
    "\n",
    "YOUR ANSWER: "
   ]
  },
  {
   "cell_type": "markdown",
   "id": "d47f043c",
   "metadata": {},
   "source": [
    "From the accuracy plot, we can see that when there is a very low number of components, the accuracy is quite low, as the necessary data may not be represented. However, as the number of components rises, there is a large increase in accuracy, potentially representing the most ideal number of components for highest accuracy. At some number of components (around 50), the accuracy plateaus, which is most likely due to overfitting, as the model becomes too closely trained to the training set, and prevents greater accuracy. This also fits with what we learned in class, since as we increase rank, we get closer to what the actual data looks like, but rank does not have to be very high for this. Thus, I think that 50 is most ideal number of standard vectors/components for highest accuracy. With this number, we can preserve the necessary variance, while reducing redundant information, while keeping training time relatively low. From the images, we can see that there are similar patterns in the dataset samples, which means that there is redundant information that our SVD reduces."
   ]
  }
 ],
 "metadata": {
  "kernelspec": {
   "display_name": "Python 3",
   "language": "python",
   "name": "python3"
  },
  "language_info": {
   "codemirror_mode": {
    "name": "ipython",
    "version": 3
   },
   "file_extension": ".py",
   "mimetype": "text/x-python",
   "name": "python",
   "nbconvert_exporter": "python",
   "pygments_lexer": "ipython3",
   "version": "3.9.6"
  }
 },
 "nbformat": 4,
 "nbformat_minor": 5
}
